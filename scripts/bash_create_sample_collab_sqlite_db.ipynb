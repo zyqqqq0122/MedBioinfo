{
 "cells": [
  {
   "cell_type": "markdown",
   "id": "45c4fb3d-2872-4ef9-8bb2-e8b7c60b1fb7",
   "metadata": {},
   "source": [
    "# Creating the sample_collab.db SQLite database"
   ]
  },
  {
   "cell_type": "markdown",
   "id": "95591431-b1c3-4808-ada3-7eb9c986cfd9",
   "metadata": {},
   "source": [
    "To be run a single time to set prefered default sqlite3 output mode (here \"box\" type output, with column headers):"
   ]
  },
  {
   "cell_type": "code",
   "execution_count": 15,
   "id": "74b227b4-9dd5-4258-b341-db4a8200f189",
   "metadata": {},
   "outputs": [],
   "source": [
    "echo -e '.mode box\\n.headers on\\n' > ~/.sqliterc"
   ]
  },
  {
   "cell_type": "markdown",
   "id": "cc10261f-e40b-423c-89a6-57f838276b2f",
   "metadata": {},
   "source": [
    "## Create the sqlite DB from original raw data files"
   ]
  },
  {
   "cell_type": "code",
   "execution_count": null,
   "id": "fb45825a-d47a-4f9a-9374-08a659dd84ce",
   "metadata": {},
   "outputs": [],
   "source": [
    "# Change the path below to match your folder's path:\n",
    "cd /shared/projects/form_2022_19/==your_firstname==/sars2copath\n",
    "git status\n",
    "# if this does NOT return \"nothing to commit, working directory clean\", then you must first stage & commit your current local branch modifications:\n",
    "# git add .\n",
    "# git commit -m \"some message\""
   ]
  },
  {
   "cell_type": "code",
   "execution_count": 24,
   "id": "c3710247-77ea-4fce-a220-471136c68efa",
   "metadata": {},
   "outputs": [
    {
     "name": "stdout",
     "output_type": "stream",
     "text": [
      "M\tanalyses/sample_collab.db\n",
      "Switched to branch 'sample_collab_db_creation'\n",
      "total 136\n",
      "-rw-r-----+ 1 phingamp phingamp 126976 May 20 00:28 sample_collab.db\n",
      "-rw-rw----+ 1 phingamp phingamp   5914 May 20 00:34 sample_collab_db_schema.sql\n",
      "total 740\n",
      "-rw-rw----+ 1 phingamp phingamp 214743 May 13 20:48 SraRunTable.csv\n",
      "-rw-rw----+ 1 phingamp phingamp  31441 May 19 13:39 sample_overviews 5.csv\n",
      "-rw-rw----+ 1 phingamp phingamp  31719 May 19 13:39 sample_overviews 3.csv\n",
      "-rw-rw----+ 1 phingamp phingamp  15884 May 19 13:39 ct_values_covid19_metagenomics.xlsx\n",
      "-rw-rw----+ 1 phingamp phingamp 447419 May 19 13:39 filereport_read_run_PRJEB47870.tsv\n"
     ]
    }
   ],
   "source": [
    "git branch\n",
    "git branch sample_collab_db_creation\n",
    "git checkout sample_collab_db_creation\n",
    "cd ./analyses\n",
    "ls -ltr\n",
    "ls -ltr ../data"
   ]
  },
  {
   "cell_type": "markdown",
   "id": "064da25b-20a8-4b39-bf00-ba8655ca7163",
   "metadata": {},
   "source": [
    "## Don't forget at the end of these sandbox explorations to quit this git branch and return to your real development branch (see instructions at the end)"
   ]
  },
  {
   "cell_type": "code",
   "execution_count": 25,
   "id": "b2022812-bdb9-463f-b600-310909084766",
   "metadata": {},
   "outputs": [],
   "source": [
    "[ -f sample_collab.db ] && rm sample_collab.db\n",
    "sqlite3 -batch  sample_collab.db < sample_collab_db_schema.sql"
   ]
  },
  {
   "cell_type": "code",
   "execution_count": 26,
   "id": "cd86ca84-d133-4342-9017-19d5f05885fb",
   "metadata": {
    "tags": []
   },
   "outputs": [
    {
     "name": "stdout",
     "output_type": "stream",
     "text": [
      "┌──────────┐\n",
      "│ count(*) │\n",
      "├──────────┤\n",
      "│ 250      │\n",
      "└──────────┘\n"
     ]
    }
   ],
   "source": [
    "sed -E \"s/,P158cDNA_L001,/,P158_cDNA_L001,/\" ../data/SraRunTable.csv | sed -E \"s/,P011_S39_L001,/,P011_DNA_S39_L001,/\" > ../data/SraRunTable_mended.csv\n",
    "sqlite3 -batch sample_collab.db \".import --csv --skip 1 ../data/SraRunTable_mended.csv SraRunTable\"\n",
    "#sqlite3 -batch sample_collab.db \".schema SraRunTable\"\n",
    "sqlite3 -batch sample_collab.db \"select count(*) from SraRunTable\""
   ]
  },
  {
   "cell_type": "code",
   "execution_count": 27,
   "id": "e6064b09-a978-4fd0-b04a-395577d54725",
   "metadata": {
    "tags": []
   },
   "outputs": [
    {
     "name": "stdout",
     "output_type": "stream",
     "text": [
      "┌──────────┐\n",
      "│ count(*) │\n",
      "├──────────┤\n",
      "│ 250      │\n",
      "└──────────┘\n"
     ]
    }
   ],
   "source": [
    "sqlite3 -batch -tabs sample_collab.db \".import --skip 1 ../data/filereport_read_run_PRJEB47870.tsv ENARunTable\"\n",
    "#sqlite3 -batch sample_collab.db \".schema ENARunTable\"\n",
    "sqlite3 -batch sample_collab.db \"select count(*) from ENARunTable\""
   ]
  },
  {
   "cell_type": "code",
   "execution_count": 28,
   "id": "e568a243-2ccc-493e-ac72-813429d80eb6",
   "metadata": {
    "tags": []
   },
   "outputs": [
    {
     "name": "stdout",
     "output_type": "stream",
     "text": [
      "251 ../data/sample_overviews_all.csv\n",
      "┌──────────┐\n",
      "│ count(*) │\n",
      "├──────────┤\n",
      "│ 250      │\n",
      "└──────────┘\n"
     ]
    }
   ],
   "source": [
    "cat \"../data/sample_overviews 5.csv\" > ../data/sample_overviews_all.csv\n",
    "tail -n +2 \"../data/sample_overviews 3.csv\" >> ../data/sample_overviews_all.csv\n",
    "wc -l ../data/sample_overviews_all.csv\n",
    "sed -E \"s/^P158cDNA_L001,/P158_cDNA_L001,/\" ../data/sample_overviews_all.csv | sed -E \"s/^P011_S39_L001,/P011_DNA_S39_L001,/\" > ../data/sample_overviews_all_mended.csv\n",
    "tail -n +2 ../data/sample_overviews_all_mended.csv | cut -f1 -d\",\" | sed -E \"s/^(\\S+)_(DNA|cDNA|CDNA|RNA|dna).*$/,\\1/\" | sed -E \"s/P07_gg/P07/\" | sed -E \"s/^,P0+/,P/\" > ../data/sample_overviews_all_mended_patient_code.csv\n",
    "echo \",patient_code\" | cat - ../data/sample_overviews_all_mended_patient_code.csv > ../data/sample_overviews_all_mended_patient_code_with_header.csv\n",
    "paste ../data/sample_overviews_all_mended.csv ../data/sample_overviews_all_mended_patient_code_with_header.csv > ../data/sample_overviews_all_mended_patient_code_with_header_pasted.csv\n",
    "sqlite3 -batch -csv sample_collab.db \".import --csv --skip 1 ../data/sample_overviews_all_mended_patient_code_with_header_pasted.csv SampleOverviews\"\n",
    "#sqlite3 -batch sample_collab.db \".schema SampleOverviews\"\n",
    "sqlite3 -batch sample_collab.db \"select count(*) from SampleOverviews\""
   ]
  },
  {
   "cell_type": "code",
   "execution_count": 29,
   "id": "b2272754-3be3-4fb5-8504-bcb53c6d501e",
   "metadata": {
    "tags": []
   },
   "outputs": [],
   "source": [
    "module load csvkit\n",
    "in2csv ../data/ct_values_covid19_metagenomics.xlsx > ../data/ct_values_covid19_metagenomics.csv"
   ]
  },
  {
   "cell_type": "code",
   "execution_count": 30,
   "id": "c5ec4347-f5e4-4de3-b8d3-99adb5e09c50",
   "metadata": {
    "tags": []
   },
   "outputs": [
    {
     "name": "stdout",
     "output_type": "stream",
     "text": [
      "┌──────────┐\n",
      "│ count(*) │\n",
      "├──────────┤\n",
      "│ 379      │\n",
      "└──────────┘\n"
     ]
    }
   ],
   "source": [
    "sqlite3 -batch sample_collab.db \".import --csv --skip 1 ../data/ct_values_covid19_metagenomics.csv CtValues\"\n",
    "#sqlite3 -batch sample_collab.db \".schema CtValues\"\n",
    "sqlite3 -batch sample_collab.db \"select count(*) from CtValues\""
   ]
  },
  {
   "cell_type": "markdown",
   "id": "12092a94-7400-4cd4-9c67-12a0779819bc",
   "metadata": {},
   "source": [
    "## 😉 Warm up with an easy join between TWO tables"
   ]
  },
  {
   "cell_type": "code",
   "execution_count": 31,
   "id": "d1337f93-ffd8-4123-873a-09ec06d773a5",
   "metadata": {
    "tags": []
   },
   "outputs": [
    {
     "name": "stdout",
     "output_type": "stream",
     "text": [
      "┌──────────┐\n",
      "│ count(*) │\n",
      "├──────────┤\n",
      "│ 250      │\n",
      "└──────────┘\n"
     ]
    }
   ],
   "source": [
    "sqlite3 -batch sample_collab.db \\\n",
    "\"select count(*) \\\n",
    "from SraRunTable sra inner join SampleOverviews spl on sra.host_subject_id=spl.sample_name;\""
   ]
  },
  {
   "cell_type": "markdown",
   "id": "3adab714-6d21-4e87-b503-d505d073745d",
   "metadata": {},
   "source": [
    "Quality control: Check that sample names are coherent between NCBI SRA and EBI ENA:"
   ]
  },
  {
   "cell_type": "code",
   "execution_count": 32,
   "id": "af96c487-058f-47bb-ba00-c46e103f2cee",
   "metadata": {
    "tags": []
   },
   "outputs": [
    {
     "name": "stdout",
     "output_type": "stream",
     "text": [
      "┌──────────┐\n",
      "│ count(*) │\n",
      "├──────────┤\n",
      "│ 250      │\n",
      "└──────────┘\n",
      "┌──────────┐\n",
      "│ count(*) │\n",
      "├──────────┤\n",
      "│ 250      │\n",
      "└──────────┘\n"
     ]
    }
   ],
   "source": [
    "sqlite3 -batch sample_collab.db \\\n",
    "\"select count(*) from  SampleOverviews spl left join SraRunTable sra on sra.host_subject_id=spl.sample_name;\"\n",
    "sqlite3 -batch sample_collab.db \\\n",
    "\"select count(*) from SraRunTable sra left join SampleOverviews spl on sra.host_subject_id=spl.sample_name;\""
   ]
  },
  {
   "cell_type": "markdown",
   "id": "e6fafbb1-6af4-4327-8332-36fead8cf44d",
   "metadata": {},
   "source": [
    "## 🤨 Let's go for a DOUBLE join between THREE tables"
   ]
  },
  {
   "cell_type": "code",
   "execution_count": 33,
   "id": "f404e30f-7b82-46c9-86a3-e64e1ac23752",
   "metadata": {
    "tags": []
   },
   "outputs": [
    {
     "name": "stdout",
     "output_type": "stream",
     "text": [
      "┌──────────┐\n",
      "│ count(*) │\n",
      "├──────────┤\n",
      "│ 250      │\n",
      "└──────────┘\n"
     ]
    }
   ],
   "source": [
    "sqlite3 -batch sample_collab.db \"select count(*) \\\n",
    "from (SraRunTable sra inner join SampleOverviews spl on sra.host_subject_id=spl.sample_name) \\\n",
    "inner join ENARunTable ena on sra.Run=ena.run_accession;\""
   ]
  },
  {
   "cell_type": "markdown",
   "id": "5c04f558-115e-480d-ad79-982ee83702c8",
   "metadata": {},
   "source": [
    "## 😲 Take a deep breath : now for the TRIPLE join of the FOUR tables:"
   ]
  },
  {
   "cell_type": "code",
   "execution_count": 34,
   "id": "76d0801b-222f-4687-b4f9-bb15045c29d5",
   "metadata": {
    "tags": []
   },
   "outputs": [
    {
     "name": "stdout",
     "output_type": "stream",
     "text": [
      "┌──────────┐\n",
      "│ count(*) │\n",
      "├──────────┤\n",
      "│ 250      │\n",
      "└──────────┘\n"
     ]
    }
   ],
   "source": [
    "sqlite3 -batch sample_collab.db \\\n",
    "\"select count(*) \\\n",
    "from ((SraRunTable sra inner join SampleOverviews spl on sra.host_subject_id=spl.sample_name) \\\n",
    "inner join ENARunTable ena on sra.Run=ena.run_accession) \\\n",
    "left join CtValues ct on patient_code=ct.Blinded_number;\""
   ]
  },
  {
   "cell_type": "markdown",
   "id": "01189d4b-6dfd-4d79-a863-8aeca94a48a0",
   "metadata": {},
   "source": [
    "## Create a couple of views to simplify usage of the sample annotations"
   ]
  },
  {
   "cell_type": "code",
   "execution_count": 35,
   "id": "8c01c6cb-54e5-4c24-a506-150a6333b975",
   "metadata": {
    "tags": []
   },
   "outputs": [],
   "source": [
    "sqlite3 -batch sample_collab.db \\\n",
    "\"create view sample_annot_all as select * \\\n",
    "from ((SraRunTable sra inner join SampleOverviews spl on sra.host_subject_id=spl.sample_name) \\\n",
    "inner join ENARunTable ena on sra.Run=ena.run_accession) \\\n",
    "left join CtValues ct on patient_code=ct.Blinded_number;\""
   ]
  },
  {
   "cell_type": "code",
   "execution_count": 36,
   "id": "42ef8e47-e41d-481d-b5b1-c87a940d0a79",
   "metadata": {
    "tags": []
   },
   "outputs": [],
   "source": [
    "sqlite3 -batch sample_collab.db \\\n",
    "\"create view sample_annot as select run_accession,host_subject_id,patient_code,nucleotide_type as nuc,host_body_site,\\\n",
    "    host_disease_status,miscellaneous_parameter,Ct,total_reads,read_count,base_count  \\\n",
    "from ((SraRunTable sra inner join SampleOverviews spl on sra.host_subject_id=spl.sample_name) \\\n",
    "inner join ENARunTable ena on sra.Run=ena.run_accession) \\\n",
    "left join CtValues ct on patient_code=ct.Blinded_number;\""
   ]
  },
  {
   "cell_type": "markdown",
   "id": "f1198e66-a997-4d53-923c-c31d55c9325f",
   "metadata": {},
   "source": [
    "### From now on we can just use the \"sample_annot\" view as if it was an ordinary table"
   ]
  },
  {
   "cell_type": "code",
   "execution_count": 37,
   "id": "3ce0699f-4d7d-45e8-b62b-d921c1f8ea64",
   "metadata": {
    "tags": []
   },
   "outputs": [
    {
     "name": "stdout",
     "output_type": "stream",
     "text": [
      "┌───────────────┬───────────────────┬──────────────┬─────┬────────────────┬─────────────────────┬────────────────────────────┬───────┬─────────────┬────────────┬────────────┐\n",
      "│ run_accession │  host_subject_id  │ patient_code │ nuc │ host_body_site │ host_disease_status │  miscellaneous_parameter   │  Ct   │ total_reads │ read_count │ base_count │\n",
      "├───────────────┼───────────────────┼──────────────┼─────┼────────────────┼─────────────────────┼────────────────────────────┼───────┼─────────────┼────────────┼────────────┤\n",
      "│ ERR6913102    │ P011_DNA_S39_L001 │ P11          │ DNA │ Nasopharyngeal │ SARS-CoV-2 positive │ Symptomatic-DNA-sequenced  │ 23.59 │ 27630988    │ 102524     │ 13193813   │\n",
      "│ ERR6913103    │ P019_DNA_S74_L001 │ P19          │ DNA │ Nasopharyngeal │ SARS-CoV-2 positive │ Symptomatic-DNA-sequenced  │ 18.81 │ 21364260    │ 385740     │ 49060845   │\n",
      "│ ERR6913108    │ P069_DNA_S27_L001 │ P69          │ DNA │ Nasopharyngeal │ SARS-CoV-2 positive │ Symptomatic-DNA-sequenced  │ 18.42 │ 23356096    │ 226280     │ 29240147   │\n",
      "│ ERR6913111    │ P090_DNA_S25_L001 │ P90          │ DNA │ Nasopharyngeal │ SARS-CoV-2 positive │ Symptomatic-DNA-sequenced  │ 26.98 │ 27646936    │ 33240      │ 4397612    │\n",
      "│ ERR6913115    │ P267_DNA_S9_L001  │ P267         │ DNA │ Nasopharyngeal │ SARS-CoV-2 positive │ Symptomatic-DNA-sequenced  │ 19.63 │ 18306476    │ 33254      │ 4259170    │\n",
      "│ ERR6913116    │ P269_DNA_S3_L001  │ P269         │ DNA │ Nasopharyngeal │ SARS-CoV-2 positive │ Symptomatic-DNA-sequenced  │ 23.43 │ 21061004    │ 43790      │ 5716941    │\n",
      "│ ERR6913117    │ P272_DNA_S40_L001 │ P272         │ DNA │ Nasopharyngeal │ SARS-CoV-2 positive │ Symptomatic-DNA-sequenced  │ 21.34 │ 24205196    │ 397186     │ 50556736   │\n",
      "│ ERR6913118    │ P273_DNA_L001     │ P273         │ DNA │ Nasopharyngeal │ SARS-CoV-2 positive │ Symptomatic-DNA-sequenced  │ 17.81 │ 16700384    │ 140270     │ 16091403   │\n",
      "│ ERR6913136    │ P27_DNA_L001_2    │ P27          │ DNA │ Nasopharyngeal │ SARS-CoV-2 positive │ Asymptomatic-DNA-sequenced │ 33.4  │ 20026148    │ 2239760    │ 318332989  │\n",
      "│ ERR6913147    │ P38_DNA_L001_2    │ P38          │ DNA │ Nasopharyngeal │ SARS-CoV-2 positive │ Asymptomatic-DNA-sequenced │ 29.33 │ 18680552    │ 1994778    │ 274525044  │\n",
      "│ ERR6913154    │ P388_DNA_L001     │ P388         │ DNA │ Nasopharyngeal │ SARS-CoV-2 negative │ Symptomatic-DNA-sequenced  │ 0.0   │ 18749066    │ 39244      │ 5260372    │\n",
      "│ ERR6913157    │ P405_DNA_S13_L001 │ P405         │ DNA │ Nasopharyngeal │ SARS-CoV-2 negative │ Symptomatic-DNA-sequenced  │ 0.0   │ 29058038    │ 171728     │ 22320314   │\n",
      "│ ERR6913161    │ P410_DNA_S61_L001 │ P410         │ DNA │ Nasopharyngeal │ SARS-CoV-2 negative │ Symptomatic-DNA-sequenced  │ 0.0   │ 19191850    │ 84520      │ 11211869   │\n",
      "│ ERR6913165    │ P419_DNA_S51_L001 │ P419         │ DNA │ Nasopharyngeal │ SARS-CoV-2 negative │ Symptomatic-DNA-sequenced  │ 0.0   │ 20304462    │ 205606     │ 26698288   │\n",
      "│ ERR6913170    │ P428_DNA_S45_L001 │ P428         │ DNA │ Nasopharyngeal │ SARS-CoV-2 negative │ Symptomatic-DNA-sequenced  │ 0.0   │ 23713614    │ 16132      │ 2129809    │\n",
      "│ ERR6913173    │ P435_DNA_S33_L001 │ P435         │ DNA │ Nasopharyngeal │ SARS-CoV-2 negative │ Symptomatic-DNA-sequenced  │ 0.0   │ 21165410    │ 27156      │ 3357535    │\n",
      "│ ERR6913174    │ NP_A_DNA_L001     │ NP_A         │ DNA │ Nasopharyngeal │ SARS-CoV-2 negative │ Asymptomatic-DNA-sequenced │       │ 26613104    │ 191868     │ 21290514   │\n",
      "│ ERR6913175    │ NP_B_DNA_L001     │ NP_B         │ DNA │ Nasopharyngeal │ SARS-CoV-2 negative │ Asymptomatic-DNA-sequenced │       │ 19924574    │ 399904     │ 42664989   │\n",
      "│ ERR6913179    │ P01_DNA_L001_2    │ P1           │ DNA │ Nasopharyngeal │ SARS-CoV-2 negative │ Asymptomatic-DNA-sequenced │ 27.65 │ 17377298    │ 1769196    │ 248757369  │\n",
      "│ ERR6913189    │ P11_DNA_L001_2    │ P11          │ DNA │ Nasopharyngeal │ SARS-CoV-2 negative │ Asymptomatic-DNA-sequenced │ 23.59 │ 20686584    │ 2225632    │ 314971171  │\n",
      "└───────────────┴───────────────────┴──────────────┴─────┴────────────────┴─────────────────────┴────────────────────────────┴───────┴─────────────┴────────────┴────────────┘\n"
     ]
    }
   ],
   "source": [
    "sqlite3 -batch sample_collab.db \\\n",
    "\"select * from sample_annot limit 20;\""
   ]
  },
  {
   "cell_type": "code",
   "execution_count": 38,
   "id": "4a971d6b-41bf-48d4-a72b-537dfafea0cf",
   "metadata": {
    "tags": []
   },
   "outputs": [
    {
     "name": "stdout",
     "output_type": "stream",
     "text": [
      "┌───────────────┬─────────────────────────────────────────────────────────────────────────────────────────────────────────────────────────────────────────────────────────────────────────────────────┐\n",
      "│ run_accession │                                                                                    submitted_ftp                                                                                    │\n",
      "├───────────────┼─────────────────────────────────────────────────────────────────────────────────────────────────────────────────────────────────────────────────────────────────────────────────────┤\n",
      "│ ERR6913102    │ ftp.sra.ebi.ac.uk/vol1/run/ERR691/ERR6913102/P011_S39_L001_1_68215_reads_nh_R1.fastq.gz;ftp.sra.ebi.ac.uk/vol1/run/ERR691/ERR6913102/P011_S39_L001_1_68215_reads_nh_R2.fastq.gz     │\n",
      "│ ERR6913103    │ ftp.sra.ebi.ac.uk/vol1/run/ERR691/ERR6913103/P019_DNA_S74_L001_68214_reads_nh_R1.fastq.gz;ftp.sra.ebi.ac.uk/vol1/run/ERR691/ERR6913103/P019_DNA_S74_L001_68214_reads_nh_R2.fastq.gz │\n",
      "│ ERR6913108    │ ftp.sra.ebi.ac.uk/vol1/run/ERR691/ERR6913108/P069_DNA_S27_L001_68232_reads_nh_R1.fastq.gz;ftp.sra.ebi.ac.uk/vol1/run/ERR691/ERR6913108/P069_DNA_S27_L001_68232_reads_nh_R2.fastq.gz │\n",
      "│ ERR6913111    │ ftp.sra.ebi.ac.uk/vol1/run/ERR691/ERR6913111/P090_DNA_S25_L001_68234_reads_nh_R1.fastq.gz;ftp.sra.ebi.ac.uk/vol1/run/ERR691/ERR6913111/P090_DNA_S25_L001_68234_reads_nh_R2.fastq.gz │\n",
      "│ ERR6913115    │ ftp.sra.ebi.ac.uk/vol1/run/ERR691/ERR6913115/P267_DNA_S9_L001_68207_reads_nh_R1.fastq.gz;ftp.sra.ebi.ac.uk/vol1/run/ERR691/ERR6913115/P267_DNA_S9_L001_68207_reads_nh_R2.fastq.gz   │\n",
      "│ ERR6913116    │ ftp.sra.ebi.ac.uk/vol1/run/ERR691/ERR6913116/P269_DNA_S3_L001_68206_reads_nh_R1.fastq.gz;ftp.sra.ebi.ac.uk/vol1/run/ERR691/ERR6913116/P269_DNA_S3_L001_68206_reads_nh_R2.fastq.gz   │\n",
      "│ ERR6913117    │ ftp.sra.ebi.ac.uk/vol1/run/ERR691/ERR6913117/P272_DNA_S40_L001_68205_reads_nh_R1.fastq.gz;ftp.sra.ebi.ac.uk/vol1/run/ERR691/ERR6913117/P272_DNA_S40_L001_68205_reads_nh_R2.fastq.gz │\n",
      "│ ERR6913118    │ ftp.sra.ebi.ac.uk/vol1/run/ERR691/ERR6913118/P273_DNA_L001_74640_reads_nh_R1.fastq.gz;ftp.sra.ebi.ac.uk/vol1/run/ERR691/ERR6913118/P273_DNA_L001_74640_reads_nh_R2.fastq.gz         │\n",
      "│ ERR6913136    │ ftp.sra.ebi.ac.uk/vol1/run/ERR691/ERR6913136/P27_DNA_L001_2_76130_reads_nh_R1.fastq.gz;ftp.sra.ebi.ac.uk/vol1/run/ERR691/ERR6913136/P27_DNA_L001_2_76130_reads_nh_R2.fastq.gz       │\n",
      "│ ERR6913147    │ ftp.sra.ebi.ac.uk/vol1/run/ERR691/ERR6913147/P38_DNA_L001_2_76151_reads_nh_R1.fastq.gz;ftp.sra.ebi.ac.uk/vol1/run/ERR691/ERR6913147/P38_DNA_L001_2_76151_reads_nh_R2.fastq.gz       │\n",
      "│ ERR6913154    │ ftp.sra.ebi.ac.uk/vol1/run/ERR691/ERR6913154/P388_DNA_L001_74605_reads_nh_R1.fastq.gz;ftp.sra.ebi.ac.uk/vol1/run/ERR691/ERR6913154/P388_DNA_L001_74605_reads_nh_R2.fastq.gz         │\n",
      "│ ERR6913157    │ ftp.sra.ebi.ac.uk/vol1/run/ERR691/ERR6913157/P405_DNA_S13_L001_68236_reads_nh_R1.fastq.gz;ftp.sra.ebi.ac.uk/vol1/run/ERR691/ERR6913157/P405_DNA_S13_L001_68236_reads_nh_R2.fastq.gz │\n",
      "│ ERR6913161    │ ftp.sra.ebi.ac.uk/vol1/run/ERR691/ERR6913161/P410_DNA_S61_L001_68228_reads_nh_R1.fastq.gz;ftp.sra.ebi.ac.uk/vol1/run/ERR691/ERR6913161/P410_DNA_S61_L001_68228_reads_nh_R2.fastq.gz │\n",
      "│ ERR6913165    │ ftp.sra.ebi.ac.uk/vol1/run/ERR691/ERR6913165/P419_DNA_S51_L001_68224_reads_nh_R1.fastq.gz;ftp.sra.ebi.ac.uk/vol1/run/ERR691/ERR6913165/P419_DNA_S51_L001_68224_reads_nh_R2.fastq.gz │\n",
      "│ ERR6913170    │ ftp.sra.ebi.ac.uk/vol1/run/ERR691/ERR6913170/P428_DNA_S45_L001_68219_reads_nh_R1.fastq.gz;ftp.sra.ebi.ac.uk/vol1/run/ERR691/ERR6913170/P428_DNA_S45_L001_68219_reads_nh_R2.fastq.gz │\n",
      "│ ERR6913173    │ ftp.sra.ebi.ac.uk/vol1/run/ERR691/ERR6913173/P435_DNA_S33_L001_68216_reads_nh_R1.fastq.gz;ftp.sra.ebi.ac.uk/vol1/run/ERR691/ERR6913173/P435_DNA_S33_L001_68216_reads_nh_R2.fastq.gz │\n",
      "│ ERR6913174    │ ftp.sra.ebi.ac.uk/vol1/run/ERR691/ERR6913174/NP_A_DNA_L001_76229_reads_nh_R1.fastq.gz;ftp.sra.ebi.ac.uk/vol1/run/ERR691/ERR6913174/NP_A_DNA_L001_76229_reads_nh_R2.fastq.gz         │\n",
      "│ ERR6913175    │ ftp.sra.ebi.ac.uk/vol1/run/ERR691/ERR6913175/NP_B_DNA_L001_74600_reads_nh_R1.fastq.gz;ftp.sra.ebi.ac.uk/vol1/run/ERR691/ERR6913175/NP_B_DNA_L001_74600_reads_nh_R2.fastq.gz         │\n",
      "│ ERR6913179    │ ftp.sra.ebi.ac.uk/vol1/run/ERR691/ERR6913179/P01_DNA_L001_2_76153_reads_nh_R1.fastq.gz;ftp.sra.ebi.ac.uk/vol1/run/ERR691/ERR6913179/P01_DNA_L001_2_76153_reads_nh_R2.fastq.gz       │\n",
      "│ ERR6913189    │ ftp.sra.ebi.ac.uk/vol1/run/ERR691/ERR6913189/P11_DNA_L001_2_76173_reads_nh_R1.fastq.gz;ftp.sra.ebi.ac.uk/vol1/run/ERR691/ERR6913189/P11_DNA_L001_2_76173_reads_nh_R2.fastq.gz       │\n",
      "└───────────────┴─────────────────────────────────────────────────────────────────────────────────────────────────────────────────────────────────────────────────────────────────────────────────────┘\n"
     ]
    }
   ],
   "source": [
    "sqlite3 -batch sample_collab.db \\\n",
    "\"select run_accession,submitted_ftp from sample_annot_all limit 20;\""
   ]
  },
  {
   "cell_type": "markdown",
   "id": "8653f508-3c38-49e9-b979-c77b54e036e6",
   "metadata": {},
   "source": [
    "## More quality controling"
   ]
  },
  {
   "cell_type": "code",
   "execution_count": 39,
   "id": "542d389e-e643-4bb2-b23a-145c6fd65671",
   "metadata": {
    "tags": []
   },
   "outputs": [
    {
     "name": "stdout",
     "output_type": "stream",
     "text": [
      "┌───────────────────────────────┐\n",
      "│ count(distinct(patient_code)) │\n",
      "├───────────────────────────────┤\n",
      "│ 120                           │\n",
      "└───────────────────────────────┘\n"
     ]
    }
   ],
   "source": [
    "sqlite3 -batch sample_collab.db \\\n",
    "\"select count(distinct(patient_code)) \\\n",
    "from ((SraRunTable sra inner join SampleOverviews spl on sra.host_subject_id=spl.sample_name) \\\n",
    "inner join ENARunTable ena on sra.Run=ena.run_accession) \\\n",
    "left join CtValues ct on patient_code=ct.Blinded_number;\""
   ]
  },
  {
   "cell_type": "code",
   "execution_count": 40,
   "id": "1ab7004e-ada2-4128-bfa6-6cd8fc6d807b",
   "metadata": {
    "tags": []
   },
   "outputs": [
    {
     "name": "stdout",
     "output_type": "stream",
     "text": [
      "┌───────────────────────────────┐\n",
      "│ count(distinct(patient_code)) │\n",
      "├───────────────────────────────┤\n",
      "│ 104                           │\n",
      "└───────────────────────────────┘\n"
     ]
    }
   ],
   "source": [
    "sqlite3 -batch sample_collab.db \\\n",
    "\"select count(distinct(patient_code)) \\\n",
    "from ((SraRunTable sra inner join SampleOverviews spl on sra.host_subject_id=spl.sample_name) \\\n",
    "inner join ENARunTable ena on sra.Run=ena.run_accession) \\\n",
    "left join CtValues ct on patient_code=ct.Blinded_number \\\n",
    "where patient_code like 'P%';\""
   ]
  },
  {
   "cell_type": "code",
   "execution_count": 41,
   "id": "36c2805d-9015-44ee-ba34-fc249fb26215",
   "metadata": {
    "tags": []
   },
   "outputs": [
    {
     "name": "stdout",
     "output_type": "stream",
     "text": [
      "┌──────────────┬───────────────────┬────┐\n",
      "│ patient_code │  host_subject_id  │ nb │\n",
      "├──────────────┼───────────────────┼────┤\n",
      "│ P11          │ P011_DNA_S39_L001 │ 4  │\n",
      "│ P19          │ P019_DNA_S74_L001 │ 4  │\n",
      "│ P22          │ P022_DNA_L001     │ 4  │\n",
      "│ P35          │ P035_DNA_S21_L001 │ 4  │\n",
      "│ P4           │ P004_DNA_L001     │ 4  │\n",
      "│ NP_A         │ NP_A_DNA_L001     │ 2  │\n",
      "│ NP_B         │ NP_B_DNA_L001     │ 2  │\n",
      "│ NP_C         │ NP_C_DNA_L001     │ 2  │\n",
      "│ NP_D         │ NP_D_DNA_L001     │ 2  │\n",
      "│ NP_E         │ NP_E_DNA_L001     │ 2  │\n",
      "│ P1           │ P01_DNA_L001_2    │ 2  │\n",
      "│ P10          │ P10_DNA_L001_2    │ 2  │\n",
      "│ P105         │ P105_DNA_L001_1   │ 2  │\n",
      "│ P113         │ P113_DNA_L001     │ 2  │\n",
      "│ P12          │ P12_DNA_L001_2    │ 2  │\n",
      "│ P121         │ P121_DNA_L001     │ 2  │\n",
      "│ P122         │ P122_DNA_L001     │ 2  │\n",
      "│ P13          │ P13_DNA_L001_2    │ 2  │\n",
      "│ P133         │ P133_DNA_L001     │ 2  │\n",
      "│ P138         │ P138_DNA_L001     │ 2  │\n",
      "└──────────────┴───────────────────┴────┘\n"
     ]
    }
   ],
   "source": [
    "sqlite3 -batch sample_collab.db \\\n",
    "\"select patient_code,host_subject_id,count(*) as nb \\\n",
    "from ((SraRunTable sra inner join SampleOverviews spl on sra.host_subject_id=spl.sample_name) \\\n",
    "inner join ENARunTable ena on sra.Run=ena.run_accession) \\\n",
    "left join CtValues ct on patient_code=ct.Blinded_number \\\n",
    "group by patient_code order by nb desc limit 20;\""
   ]
  },
  {
   "cell_type": "code",
   "execution_count": 42,
   "id": "606bb665-4efc-406b-becf-d1ee2226d3d8",
   "metadata": {
    "tags": []
   },
   "outputs": [
    {
     "name": "stdout",
     "output_type": "stream",
     "text": [
      "┌───────────────────┐\n",
      "│  host_subject_id  │\n",
      "├───────────────────┤\n",
      "│ P011_DNA_S39_L001 │\n",
      "│ P11_DNA_L001_2    │\n",
      "│ P011_RNA_S43_L001 │\n",
      "│ P11_CDNA_L001_2   │\n",
      "└───────────────────┘\n"
     ]
    }
   ],
   "source": [
    "sqlite3 -batch sample_collab.db \\\n",
    "\"select host_subject_id \\\n",
    "from ((SraRunTable sra inner join SampleOverviews spl on sra.host_subject_id=spl.sample_name) \\\n",
    "inner join ENARunTable ena on sra.Run=ena.run_accession) \\\n",
    "left join CtValues ct on patient_code=ct.Blinded_number \\\n",
    "where patient_code='P11';\""
   ]
  },
  {
   "cell_type": "code",
   "execution_count": 43,
   "id": "42921cb1-7ef7-4772-81f7-28927778cb6e",
   "metadata": {
    "tags": []
   },
   "outputs": [
    {
     "name": "stdout",
     "output_type": "stream",
     "text": [
      "┌───────────────────┬──────────────┬─────┬─────────────┬───────────────┬───────────┬────────────────┬─────────────────────┬─────────────────────────────┬───────┬───────────────────┬────────────┬────────────┐\n",
      "│  host_subject_id  │ patient_code │ nuc │ total_reads │ nonhost_reads │   Bases   │ host_body_site │ host_disease_status │   miscellaneous_parameter   │  Ct   │    sample_name    │ read_count │ base_count │\n",
      "├───────────────────┼──────────────┼─────┼─────────────┼───────────────┼───────────┼────────────────┼─────────────────────┼─────────────────────────────┼───────┼───────────────────┼────────────┼────────────┤\n",
      "│ NP_A_DNA_L001     │ NP_A         │ DNA │ 26613104    │ 191868        │ 21290514  │ Nasopharyngeal │ SARS-CoV-2 negative │ Asymptomatic-DNA-sequenced  │       │ NP_A_DNA_L001     │ 191868     │ 21290514   │\n",
      "│ NP_A_cDNA_L001    │ NP_A         │ RNA │ 21402054    │ 290140        │ 32101115  │ Nasopharyngeal │ SARS-CoV-2 negative │ Asymptomatic-cDNA-sequenced │       │ NP_A_cDNA_L001    │ 290140     │ 32101115   │\n",
      "│ NP_B_DNA_L001     │ NP_B         │ DNA │ 19924574    │ 399904        │ 42664989  │ Nasopharyngeal │ SARS-CoV-2 negative │ Asymptomatic-DNA-sequenced  │       │ NP_B_DNA_L001     │ 399904     │ 42664989   │\n",
      "│ NP_B_cDNA_L001    │ NP_B         │ RNA │ 23805264    │ 1309086       │ 152208469 │ Nasopharyngeal │ SARS-CoV-2 negative │ Asymptomatic-cDNA-sequenced │       │ NP_B_cDNA_L001    │ 1309086    │ 152208469  │\n",
      "│ NP_C_DNA_L001     │ NP_C         │ DNA │ 16834116    │ 1449880       │ 157565410 │ Nasopharyngeal │ SARS-CoV-2 negative │ Asymptomatic-DNA-sequenced  │       │ NP_C_DNA_L001     │ 1449880    │ 157565410  │\n",
      "│ NP_C_cDNA_L001    │ NP_C         │ RNA │ 20576622    │ 106838        │ 12403605  │ Nasopharyngeal │ SARS-CoV-2 negative │ Asymptomatic-cDNA-sequenced │       │ NP_C_cDNA_L001    │ 106838     │ 12403605   │\n",
      "│ NP_D_DNA_L001     │ NP_D         │ DNA │ 20282170    │ 1999270       │ 226247606 │ Nasopharyngeal │ SARS-CoV-2 negative │ Asymptomatic-DNA-sequenced  │       │ NP_D_DNA_L001     │ 1999270    │ 226247606  │\n",
      "│ NP_D_cDNA_L001    │ NP_D         │ RNA │ 18121696    │ 23678         │ 2638594   │ Nasopharyngeal │ SARS-CoV-2 negative │ Asymptomatic-cDNA-sequenced │       │ NP_D_cDNA_L001    │ 23678      │ 2638594    │\n",
      "│ NP_E_DNA_L001     │ NP_E         │ DNA │ 17098832    │ 1060832       │ 114446653 │ Nasopharyngeal │ SARS-CoV-2 negative │ Asymptomatic-DNA-sequenced  │       │ NP_E_DNA_L001     │ 1060832    │ 114446653  │\n",
      "│ NP_E_cDNA_L001    │ NP_E         │ RNA │ 16381626    │ 47250         │ 5524154   │ Nasopharyngeal │ SARS-CoV-2 negative │ Asymptomatic-cDNA-sequenced │       │ NP_E_cDNA_L001    │ 47250      │ 5524154    │\n",
      "│ P004_DNA_L001     │ P4           │ DNA │ 20246544    │ 658268        │ 80692720  │ Nasopharyngeal │ SARS-CoV-2 positive │ Symptomatic-DNA-sequenced   │ 18.0  │ P004_DNA_L001     │ 658268     │ 80692720   │\n",
      "│ P004_cDNA_L001    │ P4           │ RNA │ 27027782    │ 758080        │ 89552300  │ Nasopharyngeal │ SARS-CoV-2 positive │ Symptomatic-cDNA-sequenced  │ 18.0  │ P004_cDNA_L001    │ 758080     │ 89552300   │\n",
      "│ P011_DNA_S39_L001 │ P11          │ DNA │ 27630988    │ 102524        │ 13193813  │ Nasopharyngeal │ SARS-CoV-2 positive │ Symptomatic-DNA-sequenced   │ 23.59 │ P011_DNA_S39_L001 │ 102524     │ 13193813   │\n",
      "│ P011_RNA_S43_L001 │ P11          │ RNA │ 17500872    │ 9602          │ 1171941   │ Nasopharyngeal │ SARS-CoV-2 positive │ Symptomatic-cDNA-sequenced  │ 23.59 │ P011_RNA_S43_L001 │ 9602       │ 1171941    │\n",
      "│ P019_DNA_S74_L001 │ P19          │ DNA │ 21364260    │ 385740        │ 49060845  │ Nasopharyngeal │ SARS-CoV-2 positive │ Symptomatic-DNA-sequenced   │ 18.81 │ P019_DNA_S74_L001 │ 385740     │ 49060845   │\n",
      "│ P019_RNA_S78_L001 │ P19          │ RNA │ 20758064    │ 62396         │ 6673367   │ Nasopharyngeal │ SARS-CoV-2 positive │ Symptomatic-cDNA-sequenced  │ 18.81 │ P019_RNA_S78_L001 │ 62396      │ 6673367    │\n",
      "│ P01_CDNA_L001_2   │ P1           │ RNA │ 20429462    │ 606162        │ 80609874  │ Nasopharyngeal │ SARS-CoV-2 negative │ Asymptomatic-cDNA-sequenced │ 27.65 │ P01_CDNA_L001_2   │ 606162     │ 80609874   │\n",
      "│ P01_DNA_L001_2    │ P1           │ DNA │ 17377298    │ 1769196       │ 248757369 │ Nasopharyngeal │ SARS-CoV-2 negative │ Asymptomatic-DNA-sequenced  │ 27.65 │ P01_DNA_L001_2    │ 1769196    │ 248757369  │\n",
      "│ P022_DNA_L001     │ P22          │ DNA │ 22910206    │ 610606        │ 76430173  │ Nasopharyngeal │ SARS-CoV-2 positive │ Symptomatic-DNA-sequenced   │ 18.02 │ P022_DNA_L001     │ 610606     │ 76430173   │\n",
      "│ P022_cDNA_L001    │ P22          │ RNA │ 19148958    │ 1392334       │ 184178409 │ Nasopharyngeal │ SARS-CoV-2 positive │ Symptomatic-cDNA-sequenced  │ 18.02 │ P022_cDNA_L001    │ 1392334    │ 184178409  │\n",
      "└───────────────────┴──────────────┴─────┴─────────────┴───────────────┴───────────┴────────────────┴─────────────────────┴─────────────────────────────┴───────┴───────────────────┴────────────┴────────────┘\n"
     ]
    }
   ],
   "source": [
    "sqlite3 -batch sample_collab.db \\\n",
    "\"select host_subject_id,patient_code,nucleotide_type as nuc,total_reads,nonhost_reads,Bases,host_body_site,\\\n",
    "    host_disease_status,miscellaneous_parameter,Ct, spl.sample_name, read_count,base_count \\\n",
    "from ((SraRunTable sra inner join SampleOverviews spl on sra.host_subject_id=spl.sample_name) \\\n",
    "inner join ENARunTable ena on sra.Run=ena.run_accession) \\\n",
    "left join CtValues ct on patient_code=ct.Blinded_number \\\n",
    "order by host_subject_id asc limit 20;\""
   ]
  },
  {
   "cell_type": "code",
   "execution_count": 44,
   "id": "09de22d3-a8d8-4d4b-b129-5acac095c69b",
   "metadata": {
    "tags": []
   },
   "outputs": [
    {
     "name": "stdout",
     "output_type": "stream",
     "text": [
      "┌──────────┐\n",
      "│ count(*) │\n",
      "├──────────┤\n",
      "│ 134      │\n",
      "└──────────┘\n"
     ]
    }
   ],
   "source": [
    "sqlite3 -batch sample_collab.db \\\n",
    "\"select count(*) \\\n",
    "from ((SraRunTable sra inner join SampleOverviews spl on sra.host_subject_id=spl.sample_name) \\\n",
    "inner join ENARunTable ena on sra.Run=ena.run_accession) \\\n",
    "left join CtValues ct on patient_code=ct.Blinded_number \\\n",
    "where Ct>0;\""
   ]
  },
  {
   "cell_type": "code",
   "execution_count": 45,
   "id": "9936f7e2-b249-48bd-8427-f66d7be4294c",
   "metadata": {},
   "outputs": [
    {
     "name": "stdout",
     "output_type": "stream",
     "text": [
      "┌──────────┬───────────┬──────────┐\n",
      "│ username │ firstname │ lastname │\n",
      "├──────────┼───────────┼──────────┤\n",
      "│ phingamp │ Pascal    │ Hingamp  │\n",
      "└──────────┴───────────┴──────────┘\n"
     ]
    }
   ],
   "source": [
    "sqlite3 -batch sample_collab.db \"select * from bioinformaticians;\"\n",
    "sqlite3 -batch sample_collab.db \"insert into bioinformaticians (username,firstname,lastname) values ('phingamp','Pascal','Hingamp');\"\n",
    "sqlite3 -batch sample_collab.db \"select * from bioinformaticians;\""
   ]
  },
  {
   "cell_type": "code",
   "execution_count": 63,
   "id": "1fdb6c17-eb1f-45f3-bb53-5d62c5600ce2",
   "metadata": {},
   "outputs": [
    {
     "name": "stdout",
     "output_type": "stream",
     "text": [
      "┌──────────┬──────────────┐\n",
      "│ username │ patient_code │\n",
      "├──────────┼──────────────┤\n",
      "│ phingamp │ NP_A         │\n",
      "│ phingamp │ NP_B         │\n",
      "│ phingamp │ NP_C         │\n",
      "│ phingamp │ NP_D         │\n",
      "│ phingamp │ NP_E         │\n",
      "└──────────┴──────────────┘\n"
     ]
    }
   ],
   "source": [
    "sqlite3 -batch sample_collab.db \"select * from sample2bioinformatician;\"\n",
    "sqlite3 -batch sample_collab.db \"insert into sample2bioinformatician (username,patient_code) values ('phingamp','NP_A');\"\n",
    "sqlite3 -batch sample_collab.db \"insert into sample2bioinformatician (username,patient_code) values ('phingamp','NP_B');\"\n",
    "sqlite3 -batch sample_collab.db \"insert into sample2bioinformatician (username,patient_code) values ('phingamp','NP_C');\"\n",
    "sqlite3 -batch sample_collab.db \"insert into sample2bioinformatician (username,patient_code) values ('phingamp','NP_D');\"\n",
    "sqlite3 -batch sample_collab.db \"insert into sample2bioinformatician (username,patient_code) values ('phingamp','NP_E');\"\n",
    "sqlite3 -batch sample_collab.db \"select * from sample2bioinformatician;\""
   ]
  },
  {
   "cell_type": "code",
   "execution_count": 65,
   "id": "cca9d983-4659-4f10-80d1-a5db5f6203e3",
   "metadata": {},
   "outputs": [
    {
     "name": "stdout",
     "output_type": "stream",
     "text": [
      "┌───────────────┬───────────────────┬──────────────┬─────┬────────────────┬─────────────────────┬─────────────────────────────┬───────┬─────────────┬────────────┬────────────┬──────────┬───────────┬──────────┐\n",
      "│ run_accession │  host_subject_id  │ patient_code │ nuc │ host_body_site │ host_disease_status │   miscellaneous_parameter   │  Ct   │ total_reads │ read_count │ base_count │ username │ firstname │ lastname │\n",
      "├───────────────┼───────────────────┼──────────────┼─────┼────────────────┼─────────────────────┼─────────────────────────────┼───────┼─────────────┼────────────┼────────────┼──────────┼───────────┼──────────┤\n",
      "│ ERR6913174    │ NP_A_DNA_L001     │ NP_A         │ DNA │ Nasopharyngeal │ SARS-CoV-2 negative │ Asymptomatic-DNA-sequenced  │       │ 26613104    │ 191868     │ 21290514   │ phingamp │ Pascal    │ Hingamp  │\n",
      "│ ERR6913175    │ NP_B_DNA_L001     │ NP_B         │ DNA │ Nasopharyngeal │ SARS-CoV-2 negative │ Asymptomatic-DNA-sequenced  │       │ 19924574    │ 399904     │ 42664989   │ phingamp │ Pascal    │ Hingamp  │\n",
      "│ ERR6913270    │ NP_A_cDNA_L001    │ NP_A         │ RNA │ Nasopharyngeal │ SARS-CoV-2 negative │ Asymptomatic-cDNA-sequenced │       │ 21402054    │ 290140     │ 32101115   │ phingamp │ Pascal    │ Hingamp  │\n",
      "│ ERR6913177    │ NP_D_DNA_L001     │ NP_D         │ DNA │ Nasopharyngeal │ SARS-CoV-2 negative │ Asymptomatic-DNA-sequenced  │       │ 20282170    │ 1999270    │ 226247606  │ phingamp │ Pascal    │ Hingamp  │\n",
      "│ ERR6913178    │ NP_E_DNA_L001     │ NP_E         │ DNA │ Nasopharyngeal │ SARS-CoV-2 negative │ Asymptomatic-DNA-sequenced  │       │ 17098832    │ 1060832    │ 114446653  │ phingamp │ Pascal    │ Hingamp  │\n",
      "│ ERR6913273    │ NP_D_cDNA_L001    │ NP_D         │ RNA │ Nasopharyngeal │ SARS-CoV-2 negative │ Asymptomatic-cDNA-sequenced │       │ 18121696    │ 23678      │ 2638594    │ phingamp │ Pascal    │ Hingamp  │\n",
      "│ ERR6913274    │ NP_E_cDNA_L001    │ NP_E         │ RNA │ Nasopharyngeal │ SARS-CoV-2 negative │ Asymptomatic-cDNA-sequenced │       │ 16381626    │ 47250      │ 5524154    │ phingamp │ Pascal    │ Hingamp  │\n",
      "│ ERR6913176    │ NP_C_DNA_L001     │ NP_C         │ DNA │ Nasopharyngeal │ SARS-CoV-2 negative │ Asymptomatic-DNA-sequenced  │       │ 16834116    │ 1449880    │ 157565410  │ phingamp │ Pascal    │ Hingamp  │\n",
      "│ ERR6913272    │ NP_C_cDNA_L001    │ NP_C         │ RNA │ Nasopharyngeal │ SARS-CoV-2 negative │ Asymptomatic-cDNA-sequenced │       │ 20576622    │ 106838     │ 12403605   │ phingamp │ Pascal    │ Hingamp  │\n",
      "│ ERR6913271    │ NP_B_cDNA_L001    │ NP_B         │ RNA │ Nasopharyngeal │ SARS-CoV-2 negative │ Asymptomatic-cDNA-sequenced │       │ 23805264    │ 1309086    │ 152208469  │ phingamp │ Pascal    │ Hingamp  │\n",
      "│ ERR6913102    │ P011_DNA_S39_L001 │ P11          │ DNA │ Nasopharyngeal │ SARS-CoV-2 positive │ Symptomatic-DNA-sequenced   │ 23.59 │ 27630988    │ 102524     │ 13193813   │          │           │          │\n",
      "│ ERR6913103    │ P019_DNA_S74_L001 │ P19          │ DNA │ Nasopharyngeal │ SARS-CoV-2 positive │ Symptomatic-DNA-sequenced   │ 18.81 │ 21364260    │ 385740     │ 49060845   │          │           │          │\n",
      "│ ERR6913108    │ P069_DNA_S27_L001 │ P69          │ DNA │ Nasopharyngeal │ SARS-CoV-2 positive │ Symptomatic-DNA-sequenced   │ 18.42 │ 23356096    │ 226280     │ 29240147   │          │           │          │\n",
      "│ ERR6913111    │ P090_DNA_S25_L001 │ P90          │ DNA │ Nasopharyngeal │ SARS-CoV-2 positive │ Symptomatic-DNA-sequenced   │ 26.98 │ 27646936    │ 33240      │ 4397612    │          │           │          │\n",
      "│ ERR6913115    │ P267_DNA_S9_L001  │ P267         │ DNA │ Nasopharyngeal │ SARS-CoV-2 positive │ Symptomatic-DNA-sequenced   │ 19.63 │ 18306476    │ 33254      │ 4259170    │          │           │          │\n",
      "│ ERR6913116    │ P269_DNA_S3_L001  │ P269         │ DNA │ Nasopharyngeal │ SARS-CoV-2 positive │ Symptomatic-DNA-sequenced   │ 23.43 │ 21061004    │ 43790      │ 5716941    │          │           │          │\n",
      "│ ERR6913117    │ P272_DNA_S40_L001 │ P272         │ DNA │ Nasopharyngeal │ SARS-CoV-2 positive │ Symptomatic-DNA-sequenced   │ 21.34 │ 24205196    │ 397186     │ 50556736   │          │           │          │\n",
      "│ ERR6913118    │ P273_DNA_L001     │ P273         │ DNA │ Nasopharyngeal │ SARS-CoV-2 positive │ Symptomatic-DNA-sequenced   │ 17.81 │ 16700384    │ 140270     │ 16091403   │          │           │          │\n",
      "│ ERR6913136    │ P27_DNA_L001_2    │ P27          │ DNA │ Nasopharyngeal │ SARS-CoV-2 positive │ Asymptomatic-DNA-sequenced  │ 33.4  │ 20026148    │ 2239760    │ 318332989  │          │           │          │\n",
      "│ ERR6913147    │ P38_DNA_L001_2    │ P38          │ DNA │ Nasopharyngeal │ SARS-CoV-2 positive │ Asymptomatic-DNA-sequenced  │ 29.33 │ 18680552    │ 1994778    │ 274525044  │          │           │          │\n",
      "└───────────────┴───────────────────┴──────────────┴─────┴────────────────┴─────────────────────┴─────────────────────────────┴───────┴─────────────┴────────────┴────────────┴──────────┴───────────┴──────────┘\n"
     ]
    }
   ],
   "source": [
    "sqlite3 -batch sample_collab.db \\\n",
    "\"select * from sample_annot spl left join (sample2bioinformatician s2b left join bioinformaticians b using(username)) using(patient_code) order by username desc limit 20;\""
   ]
  },
  {
   "cell_type": "code",
   "execution_count": 66,
   "id": "a747cc4b-0cd7-4038-8cc7-59b1cf44048a",
   "metadata": {},
   "outputs": [
    {
     "name": "stdout",
     "output_type": "stream",
     "text": [
      "┌──────────┐\n",
      "│ count(*) │\n",
      "├──────────┤\n",
      "│ 10       │\n",
      "└──────────┘\n"
     ]
    }
   ],
   "source": [
    "sqlite3 -batch sample_collab.db \\\n",
    "\"select count(*) from sample_annot spl left join (sample2bioinformatician s2b left join bioinformaticians b using(username)) using(patient_code) where username='phingamp';\""
   ]
  },
  {
   "cell_type": "markdown",
   "id": "0861f0ca-aa6e-4bcf-a036-5637407cf7ce",
   "metadata": {},
   "source": [
    "# Don't forget to commit changes and leave this sandbox branch !\n",
    "\n",
    "Change in the last git command below the branch name to your personal development branch name (should be your firstname)"
   ]
  },
  {
   "cell_type": "code",
   "execution_count": null,
   "id": "dafe34fe-699e-4237-9c3e-4c529fa07008",
   "metadata": {},
   "outputs": [],
   "source": [
    "git add .\n",
    "git commit -m \"completed sandbox DB build\"\n",
    "git checkout ==your_firstname=="
   ]
  }
 ],
 "metadata": {
  "kernelspec": {
   "display_name": "Bash",
   "language": "bash",
   "name": "bash"
  },
  "language_info": {
   "codemirror_mode": "shell",
   "file_extension": ".sh",
   "mimetype": "text/x-sh",
   "name": "bash"
  }
 },
 "nbformat": 4,
 "nbformat_minor": 5
}
